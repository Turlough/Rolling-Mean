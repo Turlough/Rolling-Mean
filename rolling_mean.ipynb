{
 "cells": [
  {
   "cell_type": "markdown",
   "metadata": {},
   "source": [
    "## Setup"
   ]
  },
  {
   "cell_type": "code",
   "execution_count": 1,
   "metadata": {},
   "outputs": [],
   "source": [
    "import numpy as np"
   ]
  },
  {
   "cell_type": "code",
   "execution_count": 2,
   "metadata": {},
   "outputs": [
    {
     "name": "stdout",
     "output_type": "stream",
     "text": [
      "3.0\n"
     ]
    }
   ],
   "source": [
    "data1 = [2, 2, 2, 4, 4, 4]\n",
    "print(np.mean(data1))"
   ]
  },
  {
   "cell_type": "markdown",
   "metadata": {},
   "source": [
    "## Traditional Mean\n",
    "Using numpy.mean"
   ]
  },
  {
   "cell_type": "code",
   "execution_count": 3,
   "metadata": {},
   "outputs": [
    {
     "name": "stdout",
     "output_type": "stream",
     "text": [
      "[2, 2, 2, 4, 4, 4, 5]\n",
      "mean 3.2857142857142856\n"
     ]
    }
   ],
   "source": [
    "new_value = 5\n",
    "data2 = data1 + [new_value]\n",
    "print(data2)\n",
    "print('mean', np.mean(data2))"
   ]
  },
  {
   "cell_type": "markdown",
   "metadata": {},
   "source": [
    "## Rolling Mean"
   ]
  },
  {
   "cell_type": "markdown",
   "metadata": {},
   "source": [
    "Define the rolling mean function"
   ]
  },
  {
   "cell_type": "code",
   "execution_count": 8,
   "metadata": {},
   "outputs": [],
   "source": [
    "def append(current_mean, n, new_data):\n",
    "    new_mean = (1 - 1/n) * current_mean + (1/n) * new_data\n",
    "    print ('- Appending', new_data, ' New Mean:', new_mean)\n",
    "    return (new_mean, n + 1)"
   ]
  },
  {
   "cell_type": "markdown",
   "metadata": {},
   "source": [
    "Now we demonstrate with the original data, *data1*"
   ]
  },
  {
   "cell_type": "code",
   "execution_count": 10,
   "metadata": {},
   "outputs": [
    {
     "name": "stdout",
     "output_type": "stream",
     "text": [
      "- Appending 2  New Mean: 2.0\n",
      "- Appending 2  New Mean: 2.0\n",
      "- Appending 2  New Mean: 2.0\n",
      "- Appending 4  New Mean: 2.5\n",
      "- Appending 4  New Mean: 2.8\n",
      "- Appending 4  New Mean: 3.0\n",
      "Mean of data1: 3.0\n",
      "- Appending 5  New Mean: 3.2857142857142856\n",
      "Mean of data2: 3.2857142857142856\n"
     ]
    }
   ],
   "source": [
    "n = 1\n",
    "current_mean = 0\n",
    "\n",
    "for value in data1:\n",
    "    current_mean, n = append(current_mean, n, value)\n",
    "# Compare last outputs with np.mean results\n",
    "print(\"Mean of data1:\", np.mean(data1))\n",
    "\n",
    "current_mean, n = append(current_mean, n, new_value)\n",
    "print(\"Mean of data2:\", np.mean(data2))"
   ]
  },
  {
   "cell_type": "code",
   "execution_count": null,
   "metadata": {},
   "outputs": [],
   "source": []
  }
 ],
 "metadata": {
  "kernelspec": {
   "display_name": "Python 3",
   "language": "python",
   "name": "python3"
  },
  "language_info": {
   "codemirror_mode": {
    "name": "ipython",
    "version": 3
   },
   "file_extension": ".py",
   "mimetype": "text/x-python",
   "name": "python",
   "nbconvert_exporter": "python",
   "pygments_lexer": "ipython3",
   "version": "3.7.3"
  }
 },
 "nbformat": 4,
 "nbformat_minor": 2
}
